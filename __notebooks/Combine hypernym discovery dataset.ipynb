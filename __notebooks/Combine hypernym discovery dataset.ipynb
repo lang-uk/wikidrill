{
 "cells": [
  {
   "cell_type": "code",
   "execution_count": 1,
   "id": "77f3ab85",
   "metadata": {
    "ExecuteTime": {
     "end_time": "2023-04-11T23:02:25.180589Z",
     "start_time": "2023-04-11T23:02:25.174030Z"
    }
   },
   "outputs": [],
   "source": [
    "import re\n",
    "import csv\n",
    "from glob import glob\n",
    "from pathlib import Path\n",
    "import json"
   ]
  },
  {
   "cell_type": "code",
   "execution_count": 2,
   "id": "6b20e9cd",
   "metadata": {
    "ExecuteTime": {
     "end_time": "2023-04-11T23:02:25.187427Z",
     "start_time": "2023-04-11T23:02:25.183307Z"
    }
   },
   "outputs": [],
   "source": [
    "base_dir = Path(\"/Users/dchaplinsky/Downloads/discovery1/\")"
   ]
  },
  {
   "cell_type": "code",
   "execution_count": 3,
   "id": "37b815f4",
   "metadata": {
    "ExecuteTime": {
     "end_time": "2023-04-11T23:02:25.211065Z",
     "start_time": "2023-04-11T23:02:25.192831Z"
    }
   },
   "outputs": [
    {
     "name": "stdout",
     "output_type": "stream",
     "text": [
      "trial\n",
      "training\n",
      "test\n"
     ]
    }
   ],
   "source": [
    "dct = {}\n",
    "\n",
    "for fname in map(Path, glob(str(base_dir / \"*data*.txt\"))):\n",
    "    dataset = re.search(r\"\\.(\\w+)\\.data\", str(fname)).group(1)\n",
    "    print(dataset)\n",
    "    with fname.open(\"rt\") as fp_in:\n",
    "        r = csv.reader(fp_in, delimiter=\"\\t\")\n",
    "        for id_, term, cls in r:\n",
    "            if term in dct:\n",
    "                print(term)\n",
    "            dct[id_] = {\"type\": cls, \"dataset\": dataset, \"_id\": id_}"
   ]
  },
  {
   "cell_type": "code",
   "execution_count": 4,
   "id": "c663d90a",
   "metadata": {
    "ExecuteTime": {
     "end_time": "2023-04-11T23:02:25.261931Z",
     "start_time": "2023-04-11T23:02:25.213660Z"
    }
   },
   "outputs": [],
   "source": [
    "with open(\"hypernym_discovery_meta.json\", \"w\") as fp_out:\n",
    "    json.dump(dct, fp_out, indent=4, ensure_ascii=False, sort_keys=True)"
   ]
  },
  {
   "cell_type": "code",
   "execution_count": null,
   "id": "890f0aa8",
   "metadata": {},
   "outputs": [],
   "source": []
  }
 ],
 "metadata": {
  "kernelspec": {
   "display_name": "Python 3 (ipykernel)",
   "language": "python",
   "name": "python3"
  },
  "language_info": {
   "codemirror_mode": {
    "name": "ipython",
    "version": 3
   },
   "file_extension": ".py",
   "mimetype": "text/x-python",
   "name": "python",
   "nbconvert_exporter": "python",
   "pygments_lexer": "ipython3",
   "version": "3.9.13"
  }
 },
 "nbformat": 4,
 "nbformat_minor": 5
}
