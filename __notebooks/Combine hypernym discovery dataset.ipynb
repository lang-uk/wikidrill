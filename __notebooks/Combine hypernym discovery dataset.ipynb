{
 "cells": [
  {
   "cell_type": "code",
   "execution_count": 5,
   "id": "77f3ab85",
   "metadata": {
    "ExecuteTime": {
     "end_time": "2023-04-10T15:37:05.110839Z",
     "start_time": "2023-04-10T15:37:05.106591Z"
    }
   },
   "outputs": [],
   "source": [
    "import csv\n",
    "from glob import glob\n",
    "from pathlib import Path\n",
    "import json"
   ]
  },
  {
   "cell_type": "code",
   "execution_count": 6,
   "id": "6b20e9cd",
   "metadata": {
    "ExecuteTime": {
     "end_time": "2023-04-10T15:37:05.121912Z",
     "start_time": "2023-04-10T15:37:05.117341Z"
    }
   },
   "outputs": [],
   "source": [
    "base_dir = Path(\"/Users/dchaplinsky/Downloads/discovery/\")"
   ]
  },
  {
   "cell_type": "code",
   "execution_count": 7,
   "id": "37b815f4",
   "metadata": {
    "ExecuteTime": {
     "end_time": "2023-04-10T15:37:05.152592Z",
     "start_time": "2023-04-10T15:37:05.124996Z"
    }
   },
   "outputs": [
    {
     "name": "stdout",
     "output_type": "stream",
     "text": [
      "фіал\n",
      "колорадо\n",
      "амброзія\n",
      "десятиногі\n",
      "пфальц\n",
      "гіпотеза\n",
      "самшит\n",
      "альберт\n",
      "мобіл\n",
      "оркестрування\n",
      "ері\n",
      "епітимія\n",
      "віл\n",
      "сіно\n",
      "лука\n",
      "пором\n",
      "гідра\n",
      "офорт\n",
      "брамсель\n",
      "скреб\n",
      "карамель\n",
      "шпалери\n",
      "сан-франциско\n",
      "таро\n",
      "реквієм\n",
      "ері\n",
      "секвоя\n",
      "ондатра\n",
      "метрополіс\n",
      "гамільтон\n",
      "колорадо\n",
      "чернець\n",
      "бродекс\n",
      "трюфель\n",
      "таро\n",
      "вікторія\n",
      "слон\n",
      "мед\n",
      "ротонда\n",
      "крилатка\n",
      "поле\n",
      "делавер\n",
      "балістика\n",
      "вікторія\n",
      "вікторія\n",
      "крааль\n",
      "узбережжя\n",
      "тахо\n",
      "дуб\n",
      "тур\n",
      "рулет\n",
      "ямс\n",
      "топіарі\n",
      "візник\n",
      "рулет\n",
      "їдальня\n",
      "саванна\n",
      "страх\n",
      "бубон\n",
      "морква\n",
      "ґніт\n",
      "урмія\n",
      "тамале\n",
      "павутина\n",
      "кипіння\n",
      "атлас\n",
      "детройт\n",
      "рефлексологія\n",
      "просценіум\n",
      "канатоходіння\n",
      "гарус\n",
      "фреска\n",
      "сенека\n",
      "деколь\n",
      "аргос\n",
      "абатство\n",
      "сент-джонс\n",
      "палац\n",
      "віверові\n",
      "технологія\n",
      "нейлон\n",
      "сарацини\n",
      "ратафія\n",
      "ліра\n",
      "мусон\n",
      "юкон\n",
      "трикліній\n",
      "шорва\n",
      "марсель\n",
      "ракун\n",
      "люмінесценція\n",
      "драже\n",
      "бугай\n",
      "щука-маскінонг\n",
      "типографія\n",
      "піраміда\n",
      "ієрогліфи\n",
      "массачусетс\n",
      "береза\n",
      "жовток\n",
      "портсмут\n",
      "хобот\n",
      "чіуауа\n",
      "джеймс\n",
      "павич\n",
      "коноплі\n",
      "кухня\n",
      "астроном\n",
      "умивання\n",
      "агатис\n",
      "ньюпорт\n",
      "хот-дог\n",
      "свердлик\n",
      "модрина\n",
      "лиман\n",
      "амілоїд\n",
      "чіуауа\n",
      "стринги\n",
      "лабрадор\n",
      "їдальня\n",
      "сент-джон\n",
      "сюрко\n",
      "манта\n",
      "кейп-код\n",
      "чай\n",
      "паяци\n",
      "чай\n",
      "брунька\n",
      "шифр\n",
      "титан\n",
      "портсмут\n",
      "перколяція\n",
      "відблиски\n",
      "портленд\n",
      "пірит\n",
      "радикал\n",
      "шарпина\n",
      "спелеологія\n",
      "бивні\n"
     ]
    }
   ],
   "source": [
    "dct = {}\n",
    "\n",
    "for fname in map(Path, glob(str(base_dir / \"*\" / \"*data*.txt\"))):\n",
    "    with fname.open(\"rt\") as fp_in:\n",
    "        r = csv.reader(fp_in, delimiter=\"\\t\")\n",
    "        for term, cls in r:\n",
    "            if term in dct:\n",
    "                print(term)\n",
    "            dct[term] = {\"type\": cls, \"dataset\": fname.parent.name}"
   ]
  },
  {
   "cell_type": "code",
   "execution_count": 8,
   "id": "c663d90a",
   "metadata": {
    "ExecuteTime": {
     "end_time": "2023-04-10T15:37:05.195256Z",
     "start_time": "2023-04-10T15:37:05.155460Z"
    }
   },
   "outputs": [],
   "source": [
    "with open(\"hypernym_discovery_meta2.json\", \"w\") as fp_out:\n",
    "    json.dump(dct, fp_out, indent=4, ensure_ascii=False, sort_keys=True)"
   ]
  },
  {
   "cell_type": "code",
   "execution_count": null,
   "id": "890f0aa8",
   "metadata": {},
   "outputs": [],
   "source": []
  }
 ],
 "metadata": {
  "kernelspec": {
   "display_name": "Python 3 (ipykernel)",
   "language": "python",
   "name": "python3"
  },
  "language_info": {
   "codemirror_mode": {
    "name": "ipython",
    "version": 3
   },
   "file_extension": ".py",
   "mimetype": "text/x-python",
   "name": "python",
   "nbconvert_exporter": "python",
   "pygments_lexer": "ipython3",
   "version": "3.9.13"
  }
 },
 "nbformat": 4,
 "nbformat_minor": 5
}
