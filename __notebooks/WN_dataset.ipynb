{
 "cells": [
  {
   "cell_type": "code",
   "execution_count": 1,
   "id": "4e94d2ba",
   "metadata": {
    "ExecuteTime": {
     "end_time": "2022-11-18T12:57:27.251764Z",
     "start_time": "2022-11-18T12:57:27.117643Z"
    }
   },
   "outputs": [],
   "source": [
    "import wn\n",
    "from typing import List, Dict"
   ]
  },
  {
   "cell_type": "code",
   "execution_count": 2,
   "id": "b25e1bb3",
   "metadata": {
    "ExecuteTime": {
     "end_time": "2022-11-18T12:57:27.259097Z",
     "start_time": "2022-11-18T12:57:27.254194Z"
    }
   },
   "outputs": [],
   "source": [
    "LEXICON_ID: str = \"omw-en31\""
   ]
  },
  {
   "cell_type": "code",
   "execution_count": 42,
   "id": "8002b2df",
   "metadata": {
    "ExecuteTime": {
     "end_time": "2022-11-20T11:26:46.609194Z",
     "start_time": "2022-11-20T11:26:46.597726Z"
    }
   },
   "outputs": [],
   "source": [
    "REL_HYPERNYM: str = \"hypernym\"\n",
    "REL_INSTANCE_HYPERNYM: str = \"instance_hypernym\"\n",
    "REL_HOLONYM: str = \"holonym\"\n",
    "REL_ANTONYM: str = \"antonym\"\n",
    "REL_HYPERNYM_LEAP: str = \"hypernym_leap_%s\"\n",
    "\n",
    "REL_SYNONYM: str = \"synonym\"\n",
    "REL_COHYPONYM: str = \"co_hyponym\"\n",
    "\n",
    "\n",
    "SYNSET_RELATIONS: List[str] = [\n",
    "    # Covered by synset.hypernyms\n",
    "    # REL_HYPERNYM,\n",
    "    # REL_INSTANCE_HYPERNYM,\n",
    "    \n",
    "    # Covered computationally\n",
    "    # Also hypernym_leap_1, hypernym_leap_2...\n",
    "\n",
    "    # Covered by synset.meronyms\n",
    "    # REL_HOLONYM,\n",
    "    \n",
    "    # Covered computationally\n",
    "    # Also synonym\n",
    "    # Also co_hyponym\n",
    "]\n",
    "    \n",
    "# Synset-synset stats:\n",
    "# [('derivation', 50397),\n",
    "#  ('pertainym', 7920),\n",
    "#  ('antonym', 7772),\n",
    "#  ('is_exemplified_by', 390),\n",
    "#  ('also', 324),\n",
    "#  ('domain_region', 98),\n",
    "#  ('participle', 73),\n",
    "#  ('domain_topic', 12),\n",
    "#  ('has_domain_topic', 11),\n",
    "#  ('exemplifies', 8),\n",
    "#  ('has_domain_region', 4),\n",
    "#  ('similar', 2)]\n",
    "    \n",
    "SENSE_RELATIONS: List[str] = [\n",
    "    REL_ANTONYM,\n",
    "]"
   ]
  },
  {
   "cell_type": "code",
   "execution_count": 99,
   "id": "dc7103d5",
   "metadata": {
    "ExecuteTime": {
     "end_time": "2022-11-21T19:01:39.952562Z",
     "start_time": "2022-11-21T19:01:39.938410Z"
    }
   },
   "outputs": [
    {
     "data": {
      "text/plain": [
       "'hypernym_leap_1'"
      ]
     },
     "execution_count": 99,
     "metadata": {},
     "output_type": "execute_result"
    }
   ],
   "source": [
    "REL_HYPERNYM_LEAP % 1"
   ]
  },
  {
   "cell_type": "code",
   "execution_count": 70,
   "id": "1bd2e156",
   "metadata": {
    "ExecuteTime": {
     "end_time": "2022-11-21T14:52:09.996663Z",
     "start_time": "2022-11-21T14:52:09.852030Z"
    }
   },
   "outputs": [],
   "source": [
    "from collections import namedtuple\n",
    "\n",
    "root: wn.Synset = wn.synset(id=\"omw-en31-00001740-n\", lexicon=LEXICON_ID)\n",
    "sample: wn.Synset = wn.synset(id=\"omw-en31-05990115-n\", lexicon=LEXICON_ID)\n",
    "sample2: wn.Synset = wn.synset(id=\"omw-en31-07961030-n\", lexicon=LEXICON_ID)\n",
    "\n",
    "Relation = namedtuple(\n",
    "    \"Relation\",\n",
    "    [\n",
    "        \"synset_id_left\",\n",
    "        \"synset_id_right\",\n",
    "        \"sense_id_left\",\n",
    "        \"sense_id_right\",\n",
    "        \"pos_left\",\n",
    "        \"pos_right\",\n",
    "        \"rel\",\n",
    "        \"lemma_left\",\n",
    "        \"lemma_right\",\n",
    "        \"path_len\",  # Min length of the path between two synsets on hypernym/hyponym three\n",
    "    ],\n",
    ")"
   ]
  },
  {
   "cell_type": "code",
   "execution_count": 120,
   "id": "46e6a995",
   "metadata": {
    "ExecuteTime": {
     "end_time": "2022-11-21T19:23:29.296283Z",
     "start_time": "2022-11-21T19:23:29.280955Z"
    }
   },
   "outputs": [],
   "source": [
    "from itertools import combinations, product\n",
    "\n",
    "\n",
    "def get_relation_record(\n",
    "    sense_left: wn.Sense, sense_right: wn.Sense, rel_type: str\n",
    ") -> Relation:\n",
    "    synset_left: wn.Synset = sense_left.synset()\n",
    "    synset_right: wn.Synset = sense_right.synset()\n",
    "\n",
    "    return Relation(\n",
    "        synset_id_left=synset_left.id,\n",
    "        synset_id_right=synset_right.id,\n",
    "        sense_id_left=sense_left.id,\n",
    "        sense_id_right=sense_right.id,\n",
    "        pos_left=synset_left.pos,\n",
    "        pos_right=synset_right.pos,\n",
    "        rel=rel_type,\n",
    "        lemma_left=sense_left.word().lemma(),\n",
    "        lemma_right=sense_right.word().lemma(),\n",
    "        path_len= 0 # len(synset_left.shortest_path(synset_right)),\n",
    "    )\n",
    "\n",
    "\n",
    "def export_hypernyms(\n",
    "    hypernym: wn.Synset, hyponym: wn.Synset, curr_depth: int, max_depth: int\n",
    ") -> List[Relation]:\n",
    "    if curr_depth == 0:\n",
    "        rel: str = REL_HYPERNYM\n",
    "    else:\n",
    "        rel = REL_HYPERNYM_LEAP % curr_depth\n",
    "\n",
    "    res: List[Relation] = []\n",
    "    for a, b in product(hypernym.senses(), hyponym.senses()):\n",
    "        res.append(get_relation_record(sense_left=a, sense_right=b, rel_type=rel))\n",
    "\n",
    "    if curr_depth < max_depth - 1:\n",
    "        for child_hyponym in hyponym.hyponyms():\n",
    "            res += export_hypernyms(\n",
    "                hypernym=hypernym,\n",
    "                hyponym=child_hyponym,\n",
    "                curr_depth=curr_depth + 1,\n",
    "                max_depth=max_depth,\n",
    "            )\n",
    "\n",
    "    return res\n",
    "\n",
    "\n",
    "def extract_relations(synset: wn.Synset, hypernym_depth: int = 2) -> List[Relation]:\n",
    "    lemmas: List[str] = synset.lemmas()\n",
    "    pos = synset.pos\n",
    "    res: List[Relation] = []\n",
    "\n",
    "    # Synonyms\n",
    "    for a, b in combinations(synset.senses(), 2):\n",
    "        res.append(\n",
    "            # TODO: add reverse relation?\n",
    "            get_relation_record(sense_left=a, sense_right=b, rel_type=REL_SYNONYM)\n",
    "        )\n",
    "\n",
    "    # hypernyms:\n",
    "    for hyponym in synset.hyponyms():\n",
    "        res += export_hypernyms(\n",
    "            hypernym=synset, hyponym=hyponym, curr_depth=0, max_depth=hypernym_depth\n",
    "        )\n",
    "\n",
    "    # holonyms:\n",
    "    for meronym in synset.meronyms():\n",
    "        for a, b in product(synset.senses(), meronym.senses()):\n",
    "            res.append(\n",
    "                get_relation_record(sense_left=a, sense_right=b, rel_type=REL_HOLONYM)\n",
    "            )\n",
    "\n",
    "    # cohyponyms:\n",
    "    for hyp1, hyp2 in combinations(synset.hyponyms(), 2):\n",
    "        # TODO: check for reverse relations?\n",
    "        for a, b in product(hyp1.senses(), hyp2.senses()):\n",
    "            res.append(\n",
    "                get_relation_record(sense_left=a, sense_right=b, rel_type=REL_COHYPONYM)\n",
    "            )\n",
    "\n",
    "    # Sense 2 Sense relations\n",
    "    for sense in synset.senses():\n",
    "        for rel, related_senses in sense.relations(*SENSE_RELATIONS).items():\n",
    "            for related_sense in related_senses:\n",
    "                res.append(\n",
    "                    get_relation_record(\n",
    "                        sense_left=sense, sense_right=related_sense, rel_type=rel\n",
    "                    )\n",
    "                )\n",
    "\n",
    "    return res"
   ]
  },
  {
   "cell_type": "code",
   "execution_count": 121,
   "id": "68676c85",
   "metadata": {
    "ExecuteTime": {
     "end_time": "2022-11-21T19:23:29.831112Z",
     "start_time": "2022-11-21T19:23:29.807748Z"
    },
    "scrolled": false
   },
   "outputs": [
    {
     "data": {
      "text/plain": [
       "[Relation(synset_id_left='omw-en31-00001740-n', synset_id_right='omw-en31-00001930-n', sense_id_left='omw-en31-entity-00001740-n', sense_id_right='omw-en31-physical_entity-00001930-n', pos_left='n', pos_right='n', rel='hypernym', lemma_left='entity', lemma_right='physical entity', path_len=0),\n",
       " Relation(synset_id_left='omw-en31-00001740-n', synset_id_right='omw-en31-00002452-n', sense_id_left='omw-en31-entity-00001740-n', sense_id_right='omw-en31-thing-00002452-n', pos_left='n', pos_right='n', rel='hypernym_leap_1', lemma_left='entity', lemma_right='thing', path_len=0),\n",
       " Relation(synset_id_left='omw-en31-00001740-n', synset_id_right='omw-en31-00002684-n', sense_id_left='omw-en31-entity-00001740-n', sense_id_right='omw-en31-object-00002684-n', pos_left='n', pos_right='n', rel='hypernym_leap_1', lemma_left='entity', lemma_right='object', path_len=0),\n",
       " Relation(synset_id_left='omw-en31-00001740-n', synset_id_right='omw-en31-00002684-n', sense_id_left='omw-en31-entity-00001740-n', sense_id_right='omw-en31-physical_object-00002684-n', pos_left='n', pos_right='n', rel='hypernym_leap_1', lemma_left='entity', lemma_right='physical object', path_len=0),\n",
       " Relation(synset_id_left='omw-en31-00001740-n', synset_id_right='omw-en31-00007347-n', sense_id_left='omw-en31-entity-00001740-n', sense_id_right='omw-en31-causal_agent-00007347-n', pos_left='n', pos_right='n', rel='hypernym_leap_1', lemma_left='entity', lemma_right='causal agent', path_len=0),\n",
       " Relation(synset_id_left='omw-en31-00001740-n', synset_id_right='omw-en31-00007347-n', sense_id_left='omw-en31-entity-00001740-n', sense_id_right='omw-en31-cause-00007347-n', pos_left='n', pos_right='n', rel='hypernym_leap_1', lemma_left='entity', lemma_right='cause', path_len=0),\n",
       " Relation(synset_id_left='omw-en31-00001740-n', synset_id_right='omw-en31-00007347-n', sense_id_left='omw-en31-entity-00001740-n', sense_id_right='omw-en31-causal_agency-00007347-n', pos_left='n', pos_right='n', rel='hypernym_leap_1', lemma_left='entity', lemma_right='causal agency', path_len=0),\n",
       " Relation(synset_id_left='omw-en31-00001740-n', synset_id_right='omw-en31-00021007-n', sense_id_left='omw-en31-entity-00001740-n', sense_id_right='omw-en31-matter-00021007-n', pos_left='n', pos_right='n', rel='hypernym_leap_1', lemma_left='entity', lemma_right='matter', path_len=0),\n",
       " Relation(synset_id_left='omw-en31-00001740-n', synset_id_right='omw-en31-00029976-n', sense_id_left='omw-en31-entity-00001740-n', sense_id_right='omw-en31-process-00029976-n', pos_left='n', pos_right='n', rel='hypernym_leap_1', lemma_left='entity', lemma_right='process', path_len=0),\n",
       " Relation(synset_id_left='omw-en31-00001740-n', synset_id_right='omw-en31-00029976-n', sense_id_left='omw-en31-entity-00001740-n', sense_id_right='omw-en31-physical_process-00029976-n', pos_left='n', pos_right='n', rel='hypernym_leap_1', lemma_left='entity', lemma_right='physical process', path_len=0),\n",
       " Relation(synset_id_left='omw-en31-00001740-n', synset_id_right='omw-en31-14604577-n', sense_id_left='omw-en31-entity-00001740-n', sense_id_right='omw-en31-substance-14604577-n', pos_left='n', pos_right='n', rel='hypernym_leap_1', lemma_left='entity', lemma_right='substance', path_len=0),\n",
       " Relation(synset_id_left='omw-en31-00001740-n', synset_id_right='omw-en31-00002137-n', sense_id_left='omw-en31-entity-00001740-n', sense_id_right='omw-en31-abstraction-00002137-n', pos_left='n', pos_right='n', rel='hypernym', lemma_left='entity', lemma_right='abstraction', path_len=0),\n",
       " Relation(synset_id_left='omw-en31-00001740-n', synset_id_right='omw-en31-00002137-n', sense_id_left='omw-en31-entity-00001740-n', sense_id_right='omw-en31-abstract_entity-00002137-n', pos_left='n', pos_right='n', rel='hypernym', lemma_left='entity', lemma_right='abstract entity', path_len=0),\n",
       " Relation(synset_id_left='omw-en31-00001740-n', synset_id_right='omw-en31-00023280-n', sense_id_left='omw-en31-entity-00001740-n', sense_id_right='omw-en31-psychological_feature-00023280-n', pos_left='n', pos_right='n', rel='hypernym_leap_1', lemma_left='entity', lemma_right='psychological feature', path_len=0),\n",
       " Relation(synset_id_left='omw-en31-00001740-n', synset_id_right='omw-en31-00024444-n', sense_id_left='omw-en31-entity-00001740-n', sense_id_right='omw-en31-attribute-00024444-n', pos_left='n', pos_right='n', rel='hypernym_leap_1', lemma_left='entity', lemma_right='attribute', path_len=0),\n",
       " Relation(synset_id_left='omw-en31-00001740-n', synset_id_right='omw-en31-00031563-n', sense_id_left='omw-en31-entity-00001740-n', sense_id_right='omw-en31-group-00031563-n', pos_left='n', pos_right='n', rel='hypernym_leap_1', lemma_left='entity', lemma_right='group', path_len=0),\n",
       " Relation(synset_id_left='omw-en31-00001740-n', synset_id_right='omw-en31-00031563-n', sense_id_left='omw-en31-entity-00001740-n', sense_id_right='omw-en31-grouping-00031563-n', pos_left='n', pos_right='n', rel='hypernym_leap_1', lemma_left='entity', lemma_right='grouping', path_len=0),\n",
       " Relation(synset_id_left='omw-en31-00001740-n', synset_id_right='omw-en31-00032220-n', sense_id_left='omw-en31-entity-00001740-n', sense_id_right='omw-en31-relation-00032220-n', pos_left='n', pos_right='n', rel='hypernym_leap_1', lemma_left='entity', lemma_right='relation', path_len=0),\n",
       " Relation(synset_id_left='omw-en31-00001740-n', synset_id_right='omw-en31-00033319-n', sense_id_left='omw-en31-entity-00001740-n', sense_id_right='omw-en31-communication-00033319-n', pos_left='n', pos_right='n', rel='hypernym_leap_1', lemma_left='entity', lemma_right='communication', path_len=0),\n",
       " Relation(synset_id_left='omw-en31-00001740-n', synset_id_right='omw-en31-00033914-n', sense_id_left='omw-en31-entity-00001740-n', sense_id_right='omw-en31-measure-00033914-n', pos_left='n', pos_right='n', rel='hypernym_leap_1', lemma_left='entity', lemma_right='measure', path_len=0),\n",
       " Relation(synset_id_left='omw-en31-00001740-n', synset_id_right='omw-en31-00033914-n', sense_id_left='omw-en31-entity-00001740-n', sense_id_right='omw-en31-quantity-00033914-n', pos_left='n', pos_right='n', rel='hypernym_leap_1', lemma_left='entity', lemma_right='quantity', path_len=0),\n",
       " Relation(synset_id_left='omw-en31-00001740-n', synset_id_right='omw-en31-00033914-n', sense_id_left='omw-en31-entity-00001740-n', sense_id_right='omw-en31-amount-00033914-n', pos_left='n', pos_right='n', rel='hypernym_leap_1', lemma_left='entity', lemma_right='amount', path_len=0),\n",
       " Relation(synset_id_left='omw-en31-00001740-n', synset_id_right='omw-en31-05818169-n', sense_id_left='omw-en31-entity-00001740-n', sense_id_right='omw-en31-otherworld-05818169-n', pos_left='n', pos_right='n', rel='hypernym_leap_1', lemma_left='entity', lemma_right='otherworld', path_len=0),\n",
       " Relation(synset_id_left='omw-en31-00001740-n', synset_id_right='omw-en31-08016141-n', sense_id_left='omw-en31-entity-00001740-n', sense_id_right='omw-en31-set-08016141-n', pos_left='n', pos_right='n', rel='hypernym_leap_1', lemma_left='entity', lemma_right='set', path_len=0),\n",
       " Relation(synset_id_left='omw-en31-00001740-n', synset_id_right='omw-en31-04431553-n', sense_id_left='omw-en31-entity-00001740-n', sense_id_right='omw-en31-thing-04431553-n', pos_left='n', pos_right='n', rel='hypernym', lemma_left='entity', lemma_right='thing', path_len=0),\n",
       " Relation(synset_id_left='omw-en31-00001740-n', synset_id_right='omw-en31-03009524-n', sense_id_left='omw-en31-entity-00001740-n', sense_id_right='omw-en31-change-03009524-n', pos_left='n', pos_right='n', rel='hypernym_leap_1', lemma_left='entity', lemma_right='change', path_len=0),\n",
       " Relation(synset_id_left='omw-en31-00001740-n', synset_id_right='omw-en31-03400581-n', sense_id_left='omw-en31-entity-00001740-n', sense_id_right='omw-en31-freshener-03400581-n', pos_left='n', pos_right='n', rel='hypernym_leap_1', lemma_left='entity', lemma_right='freshener', path_len=0),\n",
       " Relation(synset_id_left='omw-en31-00001740-n', synset_id_right='omw-en31-03543047-n', sense_id_left='omw-en31-entity-00001740-n', sense_id_right='omw-en31-horror-03543047-n', pos_left='n', pos_right='n', rel='hypernym_leap_1', lemma_left='entity', lemma_right='horror', path_len=0),\n",
       " Relation(synset_id_left='omw-en31-00001740-n', synset_id_right='omw-en31-03604405-n', sense_id_left='omw-en31-entity-00001740-n', sense_id_right='omw-en31-jimdandy-03604405-n', pos_left='n', pos_right='n', rel='hypernym_leap_1', lemma_left='entity', lemma_right='jimdandy', path_len=0),\n",
       " Relation(synset_id_left='omw-en31-00001740-n', synset_id_right='omw-en31-03604405-n', sense_id_left='omw-en31-entity-00001740-n', sense_id_right='omw-en31-jimhickey-03604405-n', pos_left='n', pos_right='n', rel='hypernym_leap_1', lemma_left='entity', lemma_right='jimhickey', path_len=0),\n",
       " Relation(synset_id_left='omw-en31-00001740-n', synset_id_right='omw-en31-03604405-n', sense_id_left='omw-en31-entity-00001740-n', sense_id_right='omw-en31-crackerjack-03604405-n', pos_left='n', pos_right='n', rel='hypernym_leap_1', lemma_left='entity', lemma_right='crackerjack', path_len=0),\n",
       " Relation(synset_id_left='omw-en31-00001740-n', synset_id_right='omw-en31-03876139-n', sense_id_left='omw-en31-entity-00001740-n', sense_id_right='omw-en31-pacifier-03876139-n', pos_left='n', pos_right='n', rel='hypernym_leap_1', lemma_left='entity', lemma_right='pacifier', path_len=0),\n",
       " Relation(synset_id_left='omw-en31-00001740-n', synset_id_right='omw-en31-04172872-n', sense_id_left='omw-en31-entity-00001740-n', sense_id_right='omw-en31-security_blanket-04172872-n', pos_left='n', pos_right='n', rel='hypernym_leap_1', lemma_left='entity', lemma_right='security blanket', path_len=0),\n",
       " Relation(synset_id_left='omw-en31-00001740-n', synset_id_right='omw-en31-04327869-n', sense_id_left='omw-en31-entity-00001740-n', sense_id_right='omw-en31-stinker-04327869-n', pos_left='n', pos_right='n', rel='hypernym_leap_1', lemma_left='entity', lemma_right='stinker', path_len=0),\n",
       " Relation(synset_id_left='omw-en31-00001740-n', synset_id_right='omw-en31-04581520-n', sense_id_left='omw-en31-entity-00001740-n', sense_id_right='omw-en31-whacker-04581520-n', pos_left='n', pos_right='n', rel='hypernym_leap_1', lemma_left='entity', lemma_right='whacker', path_len=0),\n",
       " Relation(synset_id_left='omw-en31-00001740-n', synset_id_right='omw-en31-04581520-n', sense_id_left='omw-en31-entity-00001740-n', sense_id_right='omw-en31-whopper-04581520-n', pos_left='n', pos_right='n', rel='hypernym_leap_1', lemma_left='entity', lemma_right='whopper', path_len=0),\n",
       " Relation(synset_id_left='omw-en31-00001930-n', synset_id_right='omw-en31-00002137-n', sense_id_left='omw-en31-physical_entity-00001930-n', sense_id_right='omw-en31-abstraction-00002137-n', pos_left='n', pos_right='n', rel='co_hyponym', lemma_left='physical entity', lemma_right='abstraction', path_len=0),\n",
       " Relation(synset_id_left='omw-en31-00001930-n', synset_id_right='omw-en31-00002137-n', sense_id_left='omw-en31-physical_entity-00001930-n', sense_id_right='omw-en31-abstract_entity-00002137-n', pos_left='n', pos_right='n', rel='co_hyponym', lemma_left='physical entity', lemma_right='abstract entity', path_len=0),\n",
       " Relation(synset_id_left='omw-en31-00001930-n', synset_id_right='omw-en31-04431553-n', sense_id_left='omw-en31-physical_entity-00001930-n', sense_id_right='omw-en31-thing-04431553-n', pos_left='n', pos_right='n', rel='co_hyponym', lemma_left='physical entity', lemma_right='thing', path_len=0),\n",
       " Relation(synset_id_left='omw-en31-00002137-n', synset_id_right='omw-en31-04431553-n', sense_id_left='omw-en31-abstraction-00002137-n', sense_id_right='omw-en31-thing-04431553-n', pos_left='n', pos_right='n', rel='co_hyponym', lemma_left='abstraction', lemma_right='thing', path_len=0),\n",
       " Relation(synset_id_left='omw-en31-00002137-n', synset_id_right='omw-en31-04431553-n', sense_id_left='omw-en31-abstract_entity-00002137-n', sense_id_right='omw-en31-thing-04431553-n', pos_left='n', pos_right='n', rel='co_hyponym', lemma_left='abstract entity', lemma_right='thing', path_len=0)]"
      ]
     },
     "execution_count": 121,
     "metadata": {},
     "output_type": "execute_result"
    }
   ],
   "source": [
    "extract_relations(root)"
   ]
  },
  {
   "cell_type": "code",
   "execution_count": 122,
   "id": "7da4e9a4",
   "metadata": {
    "ExecuteTime": {
     "end_time": "2022-11-21T19:54:14.073394Z",
     "start_time": "2022-11-21T19:23:30.508258Z"
    }
   },
   "outputs": [
    {
     "name": "stderr",
     "output_type": "stream",
     "text": [
      "100%|██████████████████████████████████████████████████████████████████████████████████████████████████████| 117791/117791 [30:42<00:00, 63.93it/s]\n"
     ]
    }
   ],
   "source": [
    "all_relations_raw: List[Relation] = []\n",
    "    \n",
    "for synset in tqdm(wn.synsets(lexicon=LEXICON_ID)):\n",
    "    all_relations_raw += extract_relations(synset, hypernym_depth=2)"
   ]
  },
  {
   "cell_type": "code",
   "execution_count": 128,
   "id": "c5007c4a",
   "metadata": {
    "ExecuteTime": {
     "end_time": "2022-11-21T20:28:07.924170Z",
     "start_time": "2022-11-21T20:28:07.916886Z"
    }
   },
   "outputs": [
    {
     "data": {
      "text/plain": [
       "{'synset_id_left': 'omw-en31-00001740-n',\n",
       " 'synset_id_right': 'omw-en31-00001930-n',\n",
       " 'sense_id_left': 'omw-en31-entity-00001740-n',\n",
       " 'sense_id_right': 'omw-en31-physical_entity-00001930-n',\n",
       " 'pos_left': 'n',\n",
       " 'pos_right': 'n',\n",
       " 'rel': 'hypernym',\n",
       " 'lemma_left': 'entity',\n",
       " 'lemma_right': 'physical entity',\n",
       " 'path_len': 0}"
      ]
     },
     "execution_count": 128,
     "metadata": {},
     "output_type": "execute_result"
    }
   ],
   "source": [
    "all_relations_raw[0]._asdict()"
   ]
  },
  {
   "cell_type": "code",
   "execution_count": 130,
   "id": "2e908ecb",
   "metadata": {
    "ExecuteTime": {
     "end_time": "2022-11-21T20:33:38.801433Z",
     "start_time": "2022-11-21T20:31:54.173713Z"
    }
   },
   "outputs": [
    {
     "name": "stderr",
     "output_type": "stream",
     "text": [
      "100%|█████████████████████████████████████████████████████████████████████████████████████████████████| 8520327/8520327 [01:43<00:00, 82184.21it/s]\n"
     ]
    }
   ],
   "source": [
    "import smart_open\n",
    "import csv\n",
    "\n",
    "with open(\"all_relations_raw.depth2.no_distance.csv.bz2\", \"wt\") as fp_out:\n",
    "    w = csv.DictWriter(fp_out, fieldnames=Relation._fields)\n",
    "    w.writeheader()\n",
    "    for rel in tqdm(all_relations_raw):\n",
    "        w.writerow(rel._asdict())"
   ]
  },
  {
   "cell_type": "code",
   "execution_count": null,
   "id": "e9596cb9",
   "metadata": {},
   "outputs": [],
   "source": []
  }
 ],
 "metadata": {
  "kernelspec": {
   "display_name": "Python 3 (ipykernel)",
   "language": "python",
   "name": "python3"
  },
  "language_info": {
   "codemirror_mode": {
    "name": "ipython",
    "version": 3
   },
   "file_extension": ".py",
   "mimetype": "text/x-python",
   "name": "python",
   "nbconvert_exporter": "python",
   "pygments_lexer": "ipython3",
   "version": "3.9.13"
  }
 },
 "nbformat": 4,
 "nbformat_minor": 5
}
