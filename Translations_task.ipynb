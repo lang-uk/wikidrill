{
 "cells": [
  {
   "cell_type": "code",
   "execution_count": 1,
   "id": "2d32777d-acec-4c2a-83ad-25ff5435e577",
   "metadata": {},
   "outputs": [],
   "source": [
    "import csv\n",
    "import json\n",
    "\n",
    "import deepl\n",
    "import numpy as np\n",
    "import pandas as pd\n",
    "import wn\n",
    "from tqdm.notebook import tqdm"
   ]
  },
  {
   "cell_type": "code",
   "execution_count": 2,
   "id": "0cf31eb3-3217-4485-bad8-0507c2bc9fa5",
   "metadata": {},
   "outputs": [],
   "source": [
    "auth_key = \"\"  # Add here your key\n",
    "translator = deepl.Translator(auth_key)\n",
    "filename = \"data/gaps_translation.csv\"\n",
    "\n",
    "with open(\"trees_path/path_with_gaps.json\", \"r\") as f:\n",
    "    data = json.load(f)\n",
    "data = data[:20]\n",
    "\n",
    "wordnet = pd.read_json(path_or_buf=\"data/wordnet_translated_clean.jsonl\", lines=True)"
   ]
  },
  {
   "cell_type": "code",
   "execution_count": 3,
   "id": "999caea0-df3f-471c-b6a6-b9ba84a29722",
   "metadata": {},
   "outputs": [],
   "source": [
    "def transform_list(input_list):\n",
    "    return \"; \".join([\", \".join(group) for group in input_list])\n",
    "\n",
    "\n",
    "def get_translation(text_data):\n",
    "    return translator.translate_text(text_data, target_lang=\"UK\").text"
   ]
  },
  {
   "cell_type": "code",
   "execution_count": 7,
   "id": "c21fc373-2334-4899-add9-31b486a9dd28",
   "metadata": {
    "tags": []
   },
   "outputs": [
    {
     "data": {
      "application/vnd.jupyter.widget-view+json": {
       "model_id": "1f7572b851aa494888c711f8996a2182",
       "version_major": 2,
       "version_minor": 0
      },
      "text/plain": [
       "  0%|          | 0/20 [00:00<?, ?it/s]"
      ]
     },
     "metadata": {},
     "output_type": "display_data"
    }
   ],
   "source": [
    "header = [\n",
    "    \"PWN\",\n",
    "    \"ILI\",\n",
    "    \"POS\",\n",
    "    \"Gap\",\n",
    "    \"DeepL Direct\",\n",
    "    \"DeepL Contextualized\",\n",
    "    \"Translated Wordnet\",\n",
    "    \"Lemmas\",\n",
    "    \"Gloss\",\n",
    "    \"Hypernyms\",\n",
    "    \"Hyponyms\",\n",
    "]\n",
    "with open(filename, \"w\", newline=\"\") as file:\n",
    "    writer = csv.writer(file)\n",
    "    writer.writerow(header)\n",
    "    for elem in tqdm(data, total=len(data)):\n",
    "        pwn = next(iter(elem[\"path\"]))\n",
    "        for key, value in elem[\"path\"].items():\n",
    "            if \"*\" in value[\"title\"]:\n",
    "                gap = value[\"title\"][1:-1]\n",
    "                ss = wn.synset(key)\n",
    "                gloss = ss.definition()\n",
    "                ili = value[\"ili\"]\n",
    "                lemmas = \", \".join(ss.lemmas())\n",
    "                hypernyms = [hypernym.lemmas() for hypernym in ss.hypernyms()]\n",
    "                hyponyms = [hyponym.lemmas() for hyponym in ss.hyponyms()]\n",
    "                sentence = f\"{lemmas} — {gloss}.\"\n",
    "\n",
    "                deepL_direct = get_translation(gap)\n",
    "                sentence_translation = get_translation(sentence)\n",
    "                deepL_contextualized = sentence_translation.split(\" - \")[0].split(\",\")[\n",
    "                    0\n",
    "                ]\n",
    "                try:\n",
    "                    translated_wordnet = wordnet.loc[wordnet.ili == ili].iloc[0][\n",
    "                        \"lemma_raw\"\n",
    "                    ]\n",
    "                except IndexError:\n",
    "                    translated_wordnet = np.nan\n",
    "                gap_data = [\n",
    "                    key,\n",
    "                    ili,\n",
    "                    ss.pos,\n",
    "                    gap,\n",
    "                    deepL_direct,\n",
    "                    deepL_contextualized,\n",
    "                    translated_wordnet,\n",
    "                    lemmas,\n",
    "                    gloss,\n",
    "                    transform_list(hypernyms),\n",
    "                    transform_list(hyponyms),\n",
    "                ]\n",
    "                writer.writerow(gap_data)"
   ]
  }
 ],
 "metadata": {
  "kernelspec": {
   "display_name": "Python 3",
   "language": "python",
   "name": "python3"
  },
  "language_info": {
   "codemirror_mode": {
    "name": "ipython",
    "version": 3
   },
   "file_extension": ".py",
   "mimetype": "text/x-python",
   "name": "python",
   "nbconvert_exporter": "python",
   "pygments_lexer": "ipython3",
   "version": "3.8.8"
  }
 },
 "nbformat": 4,
 "nbformat_minor": 5
}
