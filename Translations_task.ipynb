{
 "cells": [
  {
   "cell_type": "code",
   "execution_count": 1,
   "id": "2d32777d-acec-4c2a-83ad-25ff5435e577",
   "metadata": {},
   "outputs": [
    {
     "data": {
      "text/plain": [
       "True"
      ]
     },
     "execution_count": 1,
     "metadata": {},
     "output_type": "execute_result"
    }
   ],
   "source": [
    "import csv\n",
    "import json\n",
    "import os\n",
    "\n",
    "import deepl\n",
    "import numpy as np\n",
    "import pandas as pd\n",
    "import wn\n",
    "from dotenv import load_dotenv\n",
    "from tqdm.notebook import tqdm\n",
    "\n",
    "load_dotenv()"
   ]
  },
  {
   "cell_type": "code",
   "execution_count": 2,
   "id": "0cf31eb3-3217-4485-bad8-0507c2bc9fa5",
   "metadata": {},
   "outputs": [],
   "source": [
    "auth_key = os.getenv(\"DEEPL_AUTH_KEY\")\n",
    "translator = deepl.Translator(auth_key)\n",
    "filename = \"data/gaps_translation.csv\"\n",
    "\n",
    "with open(\"trees_path/path_with_gaps.json\", \"r\") as f:\n",
    "    data = json.load(f)\n",
    "\n",
    "wordnet = pd.read_json(path_or_buf=\"data/wordnet_translated_clean.jsonl\", lines=True)"
   ]
  },
  {
   "cell_type": "code",
   "execution_count": 3,
   "id": "999caea0-df3f-471c-b6a6-b9ba84a29722",
   "metadata": {},
   "outputs": [],
   "source": [
    "def transform_list(input_list):\n",
    "    return \"; \".join([\", \".join(group) for group in input_list])\n",
    "\n",
    "\n",
    "def get_translation(text_data):\n",
    "    return translator.translate_text(text_data, target_lang=\"UK\").text"
   ]
  },
  {
   "cell_type": "code",
   "execution_count": 5,
   "id": "c21fc373-2334-4899-add9-31b486a9dd28",
   "metadata": {
    "tags": []
   },
   "outputs": [
    {
     "data": {
      "application/vnd.jupyter.widget-view+json": {
       "model_id": "6a89d1115c174ea4a9fb7451d4807cce",
       "version_major": 2,
       "version_minor": 0
      },
      "text/plain": [
       "  0%|          | 0/449 [00:00<?, ?it/s]"
      ]
     },
     "metadata": {},
     "output_type": "display_data"
    }
   ],
   "source": [
    "header = [\n",
    "    \"PWN\",\n",
    "    \"ILI\",\n",
    "    \"POS\",\n",
    "    \"Tree File\",\n",
    "    \"Gap\",\n",
    "    \"DeepL Direct\",\n",
    "    \"DeepL Contextualized\",\n",
    "    \"Translated Wordnet\",\n",
    "    \"Lemmas\",\n",
    "    \"Translated Wordnet Gloss\",\n",
    "    \"Gloss\",\n",
    "    \"Hypernyms\",\n",
    "    \"Hyponyms\",\n",
    "]\n",
    "\n",
    "seen = set()\n",
    "\n",
    "with open(filename, \"w\", newline=\"\") as file:\n",
    "    writer = csv.writer(file)\n",
    "    writer.writerow(header)\n",
    "    for elem in tqdm(data, total=len(data)):\n",
    "        tree_pwn = list(elem[\"path\"].keys())[0]\n",
    "        for key, value in elem[\"path\"].items():\n",
    "            if \"*\" in value[\"title\"]:\n",
    "                gap = value[\"title\"][1:-1]\n",
    "                ss = wn.synset(key)\n",
    "                gloss = ss.definition()\n",
    "                ili = value[\"ili\"]\n",
    "                lemmas = \", \".join(ss.lemmas())\n",
    "                hypernyms = [hypernym.lemmas() for hypernym in ss.hypernyms()]\n",
    "                hyponyms = [hyponym.lemmas() for hyponym in ss.hyponyms()]\n",
    "                sentence = f\"{lemmas} — {gloss}.\"\n",
    "\n",
    "                deepL_direct = get_translation(gap)\n",
    "                sentence_translation = get_translation(sentence)\n",
    "                deepL_contextualized = sentence_translation.split(\" - \")[0].split(\",\")[\n",
    "                    0\n",
    "                ]\n",
    "                try:\n",
    "                    elem = wordnet.loc[\n",
    "                        (wordnet.ili == ili) & (wordnet.freq > 0.1), \"synsets\"\n",
    "                    ].iloc[0][0]\n",
    "                    wordnet_gloss = max(\n",
    "                        elem[\"glosses_raw\"], key=elem[\"glosses_raw\"].get,\n",
    "                    )\n",
    "                    translated_wordnet = \", \".join(\n",
    "                        wordnet.loc[\n",
    "                            (wordnet.ili == ili) & (wordnet.freq > 0.1), \"lemma_raw\",\n",
    "                        ].to_list()\n",
    "                    )\n",
    "                except IndexError:\n",
    "                    translated_wordnet = np.nan\n",
    "                gap_data = [\n",
    "                    key,\n",
    "                    ili,\n",
    "                    ss.pos,\n",
    "                    tree_pwn,\n",
    "                    gap,\n",
    "                    deepL_direct,\n",
    "                    deepL_contextualized,\n",
    "                    translated_wordnet,\n",
    "                    lemmas,\n",
    "                    wordnet_gloss,\n",
    "                    gloss,\n",
    "                    transform_list(hypernyms),\n",
    "                    transform_list(hyponyms),\n",
    "                ]\n",
    "\n",
    "                if (ili, ss.pos) in seen:\n",
    "                    continue\n",
    "                writer.writerow(gap_data)\n",
    "                seen.add((ili, ss.pos))"
   ]
  },
  {
   "cell_type": "code",
   "execution_count": 7,
   "id": "0f27f9d2-437f-4672-a7dd-8b649a3fc560",
   "metadata": {},
   "outputs": [
    {
     "data": {
      "text/plain": [
       "'793 gaps should be translated.'"
      ]
     },
     "execution_count": 7,
     "metadata": {},
     "output_type": "execute_result"
    }
   ],
   "source": [
    "f\"{pd.read_json('trees_path/path_with_gaps.json')['gaps_to_fill'].sum()} gaps should be translated.\""
   ]
  }
 ],
 "metadata": {
  "kernelspec": {
   "display_name": "Python 3",
   "language": "python",
   "name": "python3"
  },
  "language_info": {
   "codemirror_mode": {
    "name": "ipython",
    "version": 3
   },
   "file_extension": ".py",
   "mimetype": "text/x-python",
   "name": "python",
   "nbconvert_exporter": "python",
   "pygments_lexer": "ipython3",
   "version": "3.8.8"
  }
 },
 "nbformat": 4,
 "nbformat_minor": 5
}
