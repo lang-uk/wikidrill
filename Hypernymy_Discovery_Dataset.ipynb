{
 "cells": [
  {
   "cell_type": "code",
   "execution_count": 1,
   "id": "4fb3b406-31ce-4ddf-9338-134381ee7207",
   "metadata": {},
   "outputs": [],
   "source": [
    "import re\n",
    "\n",
    "import pandas as pd\n",
    "from more_itertools import unique_everseen\n",
    "from sklearn.model_selection import train_test_split\n",
    "from tqdm.notebook import tqdm\n",
    "from utils import get_hypernyms"
   ]
  },
  {
   "cell_type": "markdown",
   "id": "ae2b4da7-d351-45e4-9786-2ec489aab7ea",
   "metadata": {},
   "source": [
    "## Load dataset with Ukrainian titles"
   ]
  },
  {
   "cell_type": "code",
   "execution_count": 2,
   "id": "61673c59-70bd-4d36-ba67-d86d025bb1ad",
   "metadata": {},
   "outputs": [],
   "source": [
    "filtered_uk = pd.read_csv(\"./data/titled_pwn.csv\", sep=\";\").loc[\n",
    "    lambda x: x[\"rel\"] == \"pwn31_to_uk_wiki\"\n",
    "]"
   ]
  },
  {
   "cell_type": "markdown",
   "id": "3a6686e7-adf2-4f37-9339-3fc172c832ff",
   "metadata": {},
   "source": [
    "## Filtering techniques \n",
    "1) Remove too general titles\n",
    "2) Everything in brackets\n",
    "3) Titles that are more than trigrams\n",
    "4) Titles consisting of Latin letters"
   ]
  },
  {
   "cell_type": "markdown",
   "id": "1b88d9a2-507a-45bb-a6ac-1bc6cbd02ea6",
   "metadata": {},
   "source": [
    "Привіт! Підготувала датасет гіпонім: тип: гіпероніми. \n",
    "Підхід був як у SemEval гіпонім і 5 його батьків гіперонімів. Застосувала наступні техніки для фільтрації:\n",
    "1) Видалила занадто загальні заголовки (\"Фізичне тіло\", \"Тверде тіло\", \"Матерія (фізика)\", \"Суще\")\n",
    "2) Все, що в дужках у заголовках: Колорадо (річка в Техасі) -> Колорадо\n",
    "3) Назви, які є більшими за триграми\n",
    "4) Назви, що складаються з латинських літер\n",
    "5) Гіпоніми, у яких немає хоча б одного прямого гіпероніма"
   ]
  },
  {
   "cell_type": "code",
   "execution_count": 3,
   "id": "3964fb73-8570-494b-8579-3b00a46d61de",
   "metadata": {},
   "outputs": [
    {
     "data": {
      "text/html": [
       "<div>\n",
       "<style scoped>\n",
       "    .dataframe tbody tr th:only-of-type {\n",
       "        vertical-align: middle;\n",
       "    }\n",
       "\n",
       "    .dataframe tbody tr th {\n",
       "        vertical-align: top;\n",
       "    }\n",
       "\n",
       "    .dataframe thead th {\n",
       "        text-align: right;\n",
       "    }\n",
       "</style>\n",
       "<table border=\"1\" class=\"dataframe\">\n",
       "  <thead>\n",
       "    <tr style=\"text-align: right;\">\n",
       "      <th></th>\n",
       "      <th>id_from</th>\n",
       "      <th>id_to</th>\n",
       "      <th>rel</th>\n",
       "      <th>title</th>\n",
       "    </tr>\n",
       "  </thead>\n",
       "  <tbody>\n",
       "    <tr>\n",
       "      <th>0</th>\n",
       "      <td>omw-en31-02920509-n</td>\n",
       "      <td>https://uk.wikipedia.org/wiki/%D0%9A%D0%BE%D1%...</td>\n",
       "      <td>pwn31_to_uk_wiki</td>\n",
       "      <td>корида</td>\n",
       "    </tr>\n",
       "    <tr>\n",
       "      <th>1</th>\n",
       "      <td>omw-en31-08723872-n</td>\n",
       "      <td>https://uk.wikipedia.org/wiki/%D0%90%D0%BB%D0%...</td>\n",
       "      <td>pwn31_to_uk_wiki</td>\n",
       "      <td>алжир</td>\n",
       "    </tr>\n",
       "    <tr>\n",
       "      <th>2</th>\n",
       "      <td>omw-en31-08725731-n</td>\n",
       "      <td>https://uk.wikipedia.org/wiki/%D0%90%D0%BD%D0%...</td>\n",
       "      <td>pwn31_to_uk_wiki</td>\n",
       "      <td>ангола</td>\n",
       "    </tr>\n",
       "    <tr>\n",
       "      <th>3</th>\n",
       "      <td>omw-en31-08789861-n</td>\n",
       "      <td>https://uk.wikipedia.org/wiki/%D0%93%D0%BE%D0%...</td>\n",
       "      <td>pwn31_to_uk_wiki</td>\n",
       "      <td>гоенлінден</td>\n",
       "    </tr>\n",
       "    <tr>\n",
       "      <th>4</th>\n",
       "      <td>omw-en31-04220420-n</td>\n",
       "      <td>https://uk.wikipedia.org/wiki/%D0%A1%D0%B5%D1%...</td>\n",
       "      <td>pwn31_to_uk_wiki</td>\n",
       "      <td>серп</td>\n",
       "    </tr>\n",
       "    <tr>\n",
       "      <th>...</th>\n",
       "      <td>...</td>\n",
       "      <td>...</td>\n",
       "      <td>...</td>\n",
       "      <td>...</td>\n",
       "    </tr>\n",
       "    <tr>\n",
       "      <th>13818</th>\n",
       "      <td>omw-en31-08170236-n</td>\n",
       "      <td>https://uk.wikipedia.org/wiki/%D0%9F%D0%B0%D0%...</td>\n",
       "      <td>pwn31_to_uk_wiki</td>\n",
       "      <td>пантеон</td>\n",
       "    </tr>\n",
       "    <tr>\n",
       "      <th>13819</th>\n",
       "      <td>omw-en31-04219349-n</td>\n",
       "      <td>https://uk.wikipedia.org/wiki/%D0%92%D0%BE%D0%...</td>\n",
       "      <td>pwn31_to_uk_wiki</td>\n",
       "      <td>волан</td>\n",
       "    </tr>\n",
       "    <tr>\n",
       "      <th>13820</th>\n",
       "      <td>omw-en31-08169784-n</td>\n",
       "      <td>https://uk.wikipedia.org/wiki/%D0%94%D1%83%D1%...</td>\n",
       "      <td>pwn31_to_uk_wiki</td>\n",
       "      <td>духовенство</td>\n",
       "    </tr>\n",
       "    <tr>\n",
       "      <th>13821</th>\n",
       "      <td>omw-en31-07730735-n</td>\n",
       "      <td>https://uk.wikipedia.org/wiki/%D0%91%D1%80%D0%...</td>\n",
       "      <td>pwn31_to_uk_wiki</td>\n",
       "      <td>броколі</td>\n",
       "    </tr>\n",
       "    <tr>\n",
       "      <th>13822</th>\n",
       "      <td>omw-en31-03919556-n</td>\n",
       "      <td>https://uk.wikipedia.org/wiki/%D0%9F%D0%B5%D0%...</td>\n",
       "      <td>pwn31_to_uk_wiki</td>\n",
       "      <td>пентоксифілін</td>\n",
       "    </tr>\n",
       "  </tbody>\n",
       "</table>\n",
       "<p>13823 rows × 4 columns</p>\n",
       "</div>"
      ],
      "text/plain": [
       "                   id_from                                              id_to  \\\n",
       "0      omw-en31-02920509-n  https://uk.wikipedia.org/wiki/%D0%9A%D0%BE%D1%...   \n",
       "1      omw-en31-08723872-n  https://uk.wikipedia.org/wiki/%D0%90%D0%BB%D0%...   \n",
       "2      omw-en31-08725731-n  https://uk.wikipedia.org/wiki/%D0%90%D0%BD%D0%...   \n",
       "3      omw-en31-08789861-n  https://uk.wikipedia.org/wiki/%D0%93%D0%BE%D0%...   \n",
       "4      omw-en31-04220420-n  https://uk.wikipedia.org/wiki/%D0%A1%D0%B5%D1%...   \n",
       "...                    ...                                                ...   \n",
       "13818  omw-en31-08170236-n  https://uk.wikipedia.org/wiki/%D0%9F%D0%B0%D0%...   \n",
       "13819  omw-en31-04219349-n  https://uk.wikipedia.org/wiki/%D0%92%D0%BE%D0%...   \n",
       "13820  omw-en31-08169784-n  https://uk.wikipedia.org/wiki/%D0%94%D1%83%D1%...   \n",
       "13821  omw-en31-07730735-n  https://uk.wikipedia.org/wiki/%D0%91%D1%80%D0%...   \n",
       "13822  omw-en31-03919556-n  https://uk.wikipedia.org/wiki/%D0%9F%D0%B5%D0%...   \n",
       "\n",
       "                    rel          title  \n",
       "0      pwn31_to_uk_wiki         корида  \n",
       "1      pwn31_to_uk_wiki          алжир  \n",
       "2      pwn31_to_uk_wiki         ангола  \n",
       "3      pwn31_to_uk_wiki     гоенлінден  \n",
       "4      pwn31_to_uk_wiki           серп  \n",
       "...                 ...            ...  \n",
       "13818  pwn31_to_uk_wiki        пантеон  \n",
       "13819  pwn31_to_uk_wiki          волан  \n",
       "13820  pwn31_to_uk_wiki    духовенство  \n",
       "13821  pwn31_to_uk_wiki        броколі  \n",
       "13822  pwn31_to_uk_wiki  пентоксифілін  \n",
       "\n",
       "[13823 rows x 4 columns]"
      ]
     },
     "execution_count": 3,
     "metadata": {},
     "output_type": "execute_result"
    }
   ],
   "source": [
    "# Filter out rows with too general titles\n",
    "filtered_uk = filtered_uk.loc[\n",
    "    ~filtered_uk[\"title\"].isin(\n",
    "        [\"Фізичне тіло\", \"Тверде тіло\", \"Матерія (фізика)\", \"Суще\"]\n",
    "    )\n",
    "]\n",
    "\n",
    "filtered_uk = filtered_uk.dropna().reset_index(drop=True)\n",
    "\n",
    "pattern = r\"\\([^)]*\\)\"\n",
    "\n",
    "filtered_uk[\"title\"] = filtered_uk[\"title\"].apply(\n",
    "    lambda x: re.sub(pattern, \"\", x).strip()\n",
    ")\n",
    "\n",
    "# Temporary filter bigrams and trigrams\n",
    "filtered_uk = filtered_uk[filtered_uk[\"title\"].apply(lambda x: len(x.split())) < 2]\n",
    "\n",
    "filtered_uk = filtered_uk[\n",
    "    filtered_uk[\"title\"].str.match(r\".*[^\\x00-\\xFF]\")\n",
    "].reset_index(drop=True)\n",
    "filtered_uk[\"title\"] = filtered_uk[\"title\"].str.lower()\n",
    "\n",
    "filtered_uk"
   ]
  },
  {
   "cell_type": "code",
   "execution_count": 53,
   "id": "935b2fc8-197f-4f1a-8410-0c2d6c39189c",
   "metadata": {
    "tags": []
   },
   "outputs": [
    {
     "data": {
      "application/vnd.jupyter.widget-view+json": {
       "model_id": "1301818f15fb4dec9f9f9ee6f36a8038",
       "version_major": 2,
       "version_minor": 0
      },
      "text/plain": [
       "  0%|          | 0/13823 [00:00<?, ?it/s]"
      ]
     },
     "metadata": {},
     "output_type": "display_data"
    }
   ],
   "source": [
    "def get_titles(lst):\n",
    "    return (\n",
    "        filtered_uk.set_index(\"id_from\")\n",
    "        .reindex(lst)[\"title\"]\n",
    "        .dropna()\n",
    "        .drop_duplicates()\n",
    "        .tolist()\n",
    "    )\n",
    "\n",
    "\n",
    "data = []\n",
    "\n",
    "for idx, row in tqdm(filtered_uk.iterrows(), total=len(filtered_uk)):\n",
    "    res = {}\n",
    "    hypernyms, query_type = get_hypernyms(row[\"id_from\"])\n",
    "    if not get_titles(hypernyms):\n",
    "        continue\n",
    "    all_hypernyms = hypernyms[:]\n",
    "    for _ in range(4):\n",
    "        new_hypernyms = []\n",
    "        for hypernym in all_hypernyms:\n",
    "            indirect, _ = get_hypernyms(hypernym)\n",
    "            new_hypernyms.extend(indirect)\n",
    "        all_hypernyms.extend(new_hypernyms)\n",
    "    all_hypernyms = list(unique_everseen(all_hypernyms))\n",
    "    if all_hypernyms:\n",
    "        hypernym_titles = get_titles(all_hypernyms)\n",
    "        if hypernym_titles and (row[\"title\"] not in hypernym_titles):\n",
    "            res[\"query\"] = row[\"title\"]\n",
    "            res[\"query_type\"] = query_type\n",
    "            res[\"hypernyms\"] = hypernym_titles\n",
    "            if res not in data:\n",
    "                data.append(res)"
   ]
  },
  {
   "cell_type": "code",
   "execution_count": 58,
   "id": "047106fa-9652-4a62-ad3d-f59122067846",
   "metadata": {},
   "outputs": [
    {
     "data": {
      "text/plain": [
       "4890"
      ]
     },
     "execution_count": 58,
     "metadata": {},
     "output_type": "execute_result"
    }
   ],
   "source": [
    "len(data)"
   ]
  },
  {
   "cell_type": "markdown",
   "id": "ce700b68-0c71-4802-97d1-efa153fb1838",
   "metadata": {},
   "source": [
    "## Split and write data in SemEval2018: Task 9 format "
   ]
  },
  {
   "cell_type": "code",
   "execution_count": 57,
   "id": "cdf5f03b-451d-407b-8978-bd3f1d90a85e",
   "metadata": {},
   "outputs": [],
   "source": [
    "SEED = 42\n",
    "train_test_data, dev_data = train_test_split(\n",
    "    data,\n",
    "    train_size=4800,\n",
    "    test_size=90,\n",
    "    stratify=[d[\"query_type\"] for d in data],\n",
    "    random_state=SEED,\n",
    ")\n",
    "\n",
    "train_data, test_data = train_test_split(\n",
    "    train_test_data,\n",
    "    train_size=2400,\n",
    "    test_size=2400,\n",
    "    stratify=[d[\"query_type\"] for d in train_test_data],\n",
    "    random_state=SEED,\n",
    ")\n",
    "\n",
    "\n",
    "def write_data_to_file(data, filename):\n",
    "    with open(f\"{filename}.data.txt\", \"w\") as f_data, open(\n",
    "        f\"{filename}.gold.txt\", \"w\"\n",
    "    ) as f_gold:\n",
    "        for d in data:\n",
    "            f_data.write(f\"{d['query']}\\t{d['query_type']}\\n\")\n",
    "            f_gold.write(\"\\t\".join(d[\"hypernyms\"]) + \"\\n\")\n",
    "\n",
    "\n",
    "write_data_to_file(train_data, \"./data/discovery/1A.english.training\")\n",
    "write_data_to_file(test_data, \"./data/discovery/1A.english.test\")\n",
    "write_data_to_file(dev_data, \"./data/discovery/1A.english.trial\")"
   ]
  }
 ],
 "metadata": {
  "kernelspec": {
   "display_name": "Python 3",
   "language": "python",
   "name": "python3"
  },
  "language_info": {
   "codemirror_mode": {
    "name": "ipython",
    "version": 3
   },
   "file_extension": ".py",
   "mimetype": "text/x-python",
   "name": "python",
   "nbconvert_exporter": "python",
   "pygments_lexer": "ipython3",
   "version": "3.8.8"
  }
 },
 "nbformat": 4,
 "nbformat_minor": 5
}
