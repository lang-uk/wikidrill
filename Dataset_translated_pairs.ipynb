{
 "cells": [
  {
   "cell_type": "code",
   "execution_count": 1,
   "id": "6efdb1ea-9561-4924-bcb9-dd4a4eb5c530",
   "metadata": {},
   "outputs": [
    {
     "data": {
      "text/plain": [
       "DataTransformerRegistry.enable('default')"
      ]
     },
     "execution_count": 1,
     "metadata": {},
     "output_type": "execute_result"
    }
   ],
   "source": [
    "import csv\n",
    "import itertools\n",
    "\n",
    "import altair as alt\n",
    "import numpy as np\n",
    "import pandas as pd\n",
    "from joblib import Parallel, delayed\n",
    "from utils import get_hyponyms, get_instance_hyponyms\n",
    "from tqdm.notebook import tqdm\n",
    "from utils import merge_csv, title_by_url\n",
    "\n",
    "alt.data_transformers.disable_max_rows()"
   ]
  },
  {
   "cell_type": "code",
   "execution_count": 14,
   "id": "c2789a04-ff11-498d-8a05-4eccb30b47bb",
   "metadata": {},
   "outputs": [],
   "source": [
    "!mkdir pairs\n",
    "!mkdir data"
   ]
  },
  {
   "cell_type": "code",
   "execution_count": 3,
   "id": "7e645706-0b9a-4ddd-b3e9-831ce659f26c",
   "metadata": {},
   "outputs": [],
   "source": [
    "OUTPUT_FN = \"./data/merged_pairs.csv\""
   ]
  },
  {
   "cell_type": "markdown",
   "id": "d1b50f74-b01d-45af-916c-5d39596682aa",
   "metadata": {},
   "source": [
    "## Load and prepare data"
   ]
  },
  {
   "cell_type": "code",
   "execution_count": 4,
   "id": "58e707c1-db56-4cbe-976a-57192b41ca87",
   "metadata": {},
   "outputs": [
    {
     "data": {
      "text/html": [
       "<div>\n",
       "<style scoped>\n",
       "    .dataframe tbody tr th:only-of-type {\n",
       "        vertical-align: middle;\n",
       "    }\n",
       "\n",
       "    .dataframe tbody tr th {\n",
       "        vertical-align: top;\n",
       "    }\n",
       "\n",
       "    .dataframe thead th {\n",
       "        text-align: right;\n",
       "    }\n",
       "</style>\n",
       "<table border=\"1\" class=\"dataframe\">\n",
       "  <thead>\n",
       "    <tr style=\"text-align: right;\">\n",
       "      <th></th>\n",
       "      <th>id_from</th>\n",
       "      <th>id_to</th>\n",
       "      <th>rel</th>\n",
       "    </tr>\n",
       "  </thead>\n",
       "  <tbody>\n",
       "    <tr>\n",
       "      <th>0</th>\n",
       "      <td>omw-en31-00001740-n</td>\n",
       "      <td>https://uk.wikipedia.org/wiki/%D0%A1%D1%83%D1%...</td>\n",
       "      <td>pwn31_to_uk_wiki</td>\n",
       "    </tr>\n",
       "    <tr>\n",
       "      <th>1</th>\n",
       "      <td>omw-en31-00021914-n</td>\n",
       "      <td>https://uk.wikipedia.org/wiki/%D0%9F%D0%BE%D0%...</td>\n",
       "      <td>pwn31_to_uk_wiki</td>\n",
       "    </tr>\n",
       "    <tr>\n",
       "      <th>2</th>\n",
       "      <td>omw-en31-00021445-n</td>\n",
       "      <td>https://uk.wikipedia.org/wiki/%D0%9B%D1%83%D0%...</td>\n",
       "      <td>pwn31_to_uk_wiki</td>\n",
       "    </tr>\n",
       "    <tr>\n",
       "      <th>3</th>\n",
       "      <td>omw-en31-00021445-n</td>\n",
       "      <td>https://uk.wikipedia.org/wiki/%D0%87%D0%B6%D0%B0</td>\n",
       "      <td>pwn31_to_uk_wiki</td>\n",
       "    </tr>\n",
       "    <tr>\n",
       "      <th>4</th>\n",
       "      <td>omw-en31-00021007-n</td>\n",
       "      <td>https://uk.wikipedia.org/wiki/%D0%9C%D0%B0%D1%...</td>\n",
       "      <td>pwn31_to_uk_wiki</td>\n",
       "    </tr>\n",
       "  </tbody>\n",
       "</table>\n",
       "</div>"
      ],
      "text/plain": [
       "               id_from                                              id_to  \\\n",
       "0  omw-en31-00001740-n  https://uk.wikipedia.org/wiki/%D0%A1%D1%83%D1%...   \n",
       "1  omw-en31-00021914-n  https://uk.wikipedia.org/wiki/%D0%9F%D0%BE%D0%...   \n",
       "2  omw-en31-00021445-n  https://uk.wikipedia.org/wiki/%D0%9B%D1%83%D0%...   \n",
       "3  omw-en31-00021445-n   https://uk.wikipedia.org/wiki/%D0%87%D0%B6%D0%B0   \n",
       "4  omw-en31-00021007-n  https://uk.wikipedia.org/wiki/%D0%9C%D0%B0%D1%...   \n",
       "\n",
       "                rel  \n",
       "0  pwn31_to_uk_wiki  \n",
       "1  pwn31_to_uk_wiki  \n",
       "2  pwn31_to_uk_wiki  \n",
       "3  pwn31_to_uk_wiki  \n",
       "4  pwn31_to_uk_wiki  "
      ]
     },
     "execution_count": 4,
     "metadata": {},
     "output_type": "execute_result"
    }
   ],
   "source": [
    "data = pd.read_csv(\"./data/pwn_friends.csv\")\n",
    "\n",
    "filtered_uk = data.loc[data[\"rel\"] == \"pwn31_to_uk_wiki\"].reset_index(drop=True)\n",
    "filtered_uk.head()"
   ]
  },
  {
   "cell_type": "markdown",
   "id": "e97220a6-8291-4988-9326-fc5f5ffab075",
   "metadata": {},
   "source": [
    "## Helper functions"
   ]
  },
  {
   "cell_type": "code",
   "execution_count": 5,
   "id": "6fe0bdc8-1da4-4a81-ac0f-0d03f211f899",
   "metadata": {},
   "outputs": [],
   "source": [
    "def create_write_pairs(rel_type_list, rel_type, df, hypernym_title, csv_writer):\n",
    "    \"\"\"\n",
    "    Writes to csv files pairs of all relation types.\n",
    "    :param rel_type_list: list\n",
    "    :param rel_type: string\n",
    "    :param df: DataFrame\n",
    "    :param hypernym_title: string\n",
    "    :param csv_writer: writer object\n",
    "    :return: None\n",
    "    \"\"\"\n",
    "    if not rel_type_list:\n",
    "        return\n",
    "    titles = [\n",
    "        title_by_url(df.loc[df[\"id_from\"] == hyp_id][\"id_to\"].iloc[0])\n",
    "        for hyp_id in rel_type_list\n",
    "        if hyp_id in df[\"id_from\"].unique()\n",
    "    ]\n",
    "    if not titles:\n",
    "        return\n",
    "    [\n",
    "        csv_writer.writerow([hypernym_title, elem, f\"hypernym-{rel_type}\"])\n",
    "        for elem in titles\n",
    "    ]\n",
    "    if len(titles) > 1:\n",
    "        pairs = list(itertools.combinations(titles, 2))\n",
    "        [csv_writer.writerow(list(pair) + [f\"co-{rel_type}s\"]) for pair in pairs]"
   ]
  },
  {
   "cell_type": "markdown",
   "id": "5595375c-317b-4236-8f3d-e736ed83c1e1",
   "metadata": {},
   "source": [
    "## Create hyponym-hypernym pairs for Ukrainian Wiki page"
   ]
  },
  {
   "cell_type": "code",
   "execution_count": 6,
   "id": "200d157f-e05f-46bc-8b70-e3cc7b3c2872",
   "metadata": {},
   "outputs": [],
   "source": [
    "def run_step(index, row, file_name):\n",
    "    \"\"\"\n",
    "    Create a csv file with pairs of relation types for 1 Wikipedia page.\n",
    "    :param index: int\n",
    "    :param row: pd.Series\n",
    "    :param file_name: string\n",
    "    :return: None\n",
    "    \"\"\"\n",
    "    with open(file_name, \"w\", encoding=\"UTF8\") as f:\n",
    "        csv_writer = csv.writer(f, delimiter=\";\")\n",
    "        url, synset_id = row[\"id_to\"], row[\"id_from\"]\n",
    "        urk_title = title_by_url(url)\n",
    "        if not urk_title:\n",
    "            return\n",
    "        hyponyms = get_hyponyms(synset_id)\n",
    "        instances = get_instance_hyponyms(synset_id)\n",
    "        create_write_pairs(hyponyms, \"hyponym\", filtered_uk, urk_title, csv_writer)\n",
    "        create_write_pairs(instances, \"instance\", filtered_uk, urk_title, csv_writer)"
   ]
  },
  {
   "cell_type": "markdown",
   "id": "4e66b690-418d-4bf1-be47-9dddea19db04",
   "metadata": {},
   "source": [
    "## Parallel run for all Wiki pages"
   ]
  },
  {
   "cell_type": "code",
   "execution_count": 7,
   "id": "5f1727c7-e951-497a-a3f9-d5bed9ed770d",
   "metadata": {
    "tags": []
   },
   "outputs": [
    {
     "data": {
      "application/vnd.jupyter.widget-view+json": {
       "model_id": "b5062eab270f4d27bf42ec34a7584348",
       "version_major": 2,
       "version_minor": 0
      },
      "text/plain": [
       "  0%|          | 0/21354 [00:00<?, ?it/s]"
      ]
     },
     "metadata": {},
     "output_type": "display_data"
    }
   ],
   "source": [
    "run = Parallel(n_jobs=10)(\n",
    "    delayed(run_step)(index, row, f\"./pairs/page_{index}.csv\")\n",
    "    for index, row in tqdm(filtered_uk.iterrows(), total=len(filtered_uk))\n",
    ")"
   ]
  },
  {
   "cell_type": "markdown",
   "id": "369665ce-0ba9-4bce-8e62-580bcca380a8",
   "metadata": {},
   "source": [
    "## Merge separate files into one dataset"
   ]
  },
  {
   "cell_type": "code",
   "execution_count": 8,
   "id": "6451949f-1b35-4bd5-92b8-d62a5006f480",
   "metadata": {},
   "outputs": [
    {
     "data": {
      "application/vnd.jupyter.widget-view+json": {
       "model_id": "fac47e86291b40ffb5391f9d8b92b088",
       "version_major": 2,
       "version_minor": 0
      },
      "text/plain": [
       "  0%|          | 0/21354 [00:00<?, ?it/s]"
      ]
     },
     "metadata": {},
     "output_type": "display_data"
    }
   ],
   "source": [
    "header = [\"word_left\", \"word_right\", \"relation_type\"]\n",
    "merge_csv(\"pairs\", OUTPUT_FN, header, \";\")"
   ]
  },
  {
   "cell_type": "code",
   "execution_count": null,
   "id": "db441979-8d4e-4c54-9af2-239075d3d6e8",
   "metadata": {},
   "outputs": [],
   "source": [
    "!rm -rf pairs"
   ]
  },
  {
   "cell_type": "markdown",
   "id": "3c08581c-c034-4045-96e8-9056b2d1909c",
   "metadata": {},
   "source": [
    "## Final clean-up"
   ]
  },
  {
   "cell_type": "code",
   "execution_count": 4,
   "id": "7ad8fd92-5e05-4cb5-9e2b-6c0211cd71bf",
   "metadata": {},
   "outputs": [
    {
     "data": {
      "text/html": [
       "<div>\n",
       "<style scoped>\n",
       "    .dataframe tbody tr th:only-of-type {\n",
       "        vertical-align: middle;\n",
       "    }\n",
       "\n",
       "    .dataframe tbody tr th {\n",
       "        vertical-align: top;\n",
       "    }\n",
       "\n",
       "    .dataframe thead th {\n",
       "        text-align: right;\n",
       "    }\n",
       "</style>\n",
       "<table border=\"1\" class=\"dataframe\">\n",
       "  <thead>\n",
       "    <tr style=\"text-align: right;\">\n",
       "      <th></th>\n",
       "      <th>word_left</th>\n",
       "      <th>word_right</th>\n",
       "      <th>relation_type</th>\n",
       "    </tr>\n",
       "  </thead>\n",
       "  <tbody>\n",
       "    <tr>\n",
       "      <th>0</th>\n",
       "      <td>Організм</td>\n",
       "      <td>Бенталь</td>\n",
       "      <td>hypernym-hyponym</td>\n",
       "    </tr>\n",
       "    <tr>\n",
       "      <th>1</th>\n",
       "      <td>Організм</td>\n",
       "      <td>Гетеротрофи</td>\n",
       "      <td>hypernym-hyponym</td>\n",
       "    </tr>\n",
       "    <tr>\n",
       "      <th>2</th>\n",
       "      <td>Організм</td>\n",
       "      <td>Тварини</td>\n",
       "      <td>hypernym-hyponym</td>\n",
       "    </tr>\n",
       "    <tr>\n",
       "      <th>3</th>\n",
       "      <td>Організм</td>\n",
       "      <td>Рослини</td>\n",
       "      <td>hypernym-hyponym</td>\n",
       "    </tr>\n",
       "    <tr>\n",
       "      <th>4</th>\n",
       "      <td>Організм</td>\n",
       "      <td>Мікроорганізм</td>\n",
       "      <td>hypernym-hyponym</td>\n",
       "    </tr>\n",
       "  </tbody>\n",
       "</table>\n",
       "</div>"
      ],
      "text/plain": [
       "  word_left     word_right     relation_type\n",
       "0  Організм        Бенталь  hypernym-hyponym\n",
       "1  Організм    Гетеротрофи  hypernym-hyponym\n",
       "2  Організм        Тварини  hypernym-hyponym\n",
       "3  Організм        Рослини  hypernym-hyponym\n",
       "4  Організм  Мікроорганізм  hypernym-hyponym"
      ]
     },
     "execution_count": 4,
     "metadata": {},
     "output_type": "execute_result"
    }
   ],
   "source": [
    "new_df = pd.read_csv(OUTPUT_FN, delimiter=\";\")\n",
    "new_df.drop_duplicates(ignore_index=True, inplace=True)\n",
    "new_df.drop(np.where(new_df[\"word_left\"] == new_df[\"word_right\"])[0], inplace=True)\n",
    "new_df.to_csv(OUTPUT_FN, sep=\";\", encoding=\"utf-8\", index=False)\n",
    "new_df.head()"
   ]
  },
  {
   "cell_type": "markdown",
   "id": "31907950-ea2b-4a6c-9abe-b36ae8f20e84",
   "metadata": {},
   "source": [
    "## Dataset statistics"
   ]
  },
  {
   "cell_type": "code",
   "execution_count": 23,
   "id": "72991b37-f3dc-4c4c-8a6e-690e0f95417a",
   "metadata": {},
   "outputs": [
    {
     "data": {
      "text/html": [
       "\n",
       "<div id=\"altair-viz-9b377dca362f4408af6724313965d71f\"></div>\n",
       "<script type=\"text/javascript\">\n",
       "  var VEGA_DEBUG = (typeof VEGA_DEBUG == \"undefined\") ? {} : VEGA_DEBUG;\n",
       "  (function(spec, embedOpt){\n",
       "    let outputDiv = document.currentScript.previousElementSibling;\n",
       "    if (outputDiv.id !== \"altair-viz-9b377dca362f4408af6724313965d71f\") {\n",
       "      outputDiv = document.getElementById(\"altair-viz-9b377dca362f4408af6724313965d71f\");\n",
       "    }\n",
       "    const paths = {\n",
       "      \"vega\": \"https://cdn.jsdelivr.net/npm//vega@5?noext\",\n",
       "      \"vega-lib\": \"https://cdn.jsdelivr.net/npm//vega-lib?noext\",\n",
       "      \"vega-lite\": \"https://cdn.jsdelivr.net/npm//vega-lite@4.17.0?noext\",\n",
       "      \"vega-embed\": \"https://cdn.jsdelivr.net/npm//vega-embed@6?noext\",\n",
       "    };\n",
       "\n",
       "    function maybeLoadScript(lib, version) {\n",
       "      var key = `${lib.replace(\"-\", \"\")}_version`;\n",
       "      return (VEGA_DEBUG[key] == version) ?\n",
       "        Promise.resolve(paths[lib]) :\n",
       "        new Promise(function(resolve, reject) {\n",
       "          var s = document.createElement('script');\n",
       "          document.getElementsByTagName(\"head\")[0].appendChild(s);\n",
       "          s.async = true;\n",
       "          s.onload = () => {\n",
       "            VEGA_DEBUG[key] = version;\n",
       "            return resolve(paths[lib]);\n",
       "          };\n",
       "          s.onerror = () => reject(`Error loading script: ${paths[lib]}`);\n",
       "          s.src = paths[lib];\n",
       "        });\n",
       "    }\n",
       "\n",
       "    function showError(err) {\n",
       "      outputDiv.innerHTML = `<div class=\"error\" style=\"color:red;\">${err}</div>`;\n",
       "      throw err;\n",
       "    }\n",
       "\n",
       "    function displayChart(vegaEmbed) {\n",
       "      vegaEmbed(outputDiv, spec, embedOpt)\n",
       "        .catch(err => showError(`Javascript Error: ${err.message}<br>This usually means there's a typo in your chart specification. See the javascript console for the full traceback.`));\n",
       "    }\n",
       "\n",
       "    if(typeof define === \"function\" && define.amd) {\n",
       "      requirejs.config({paths});\n",
       "      require([\"vega-embed\"], displayChart, err => showError(`Error loading script: ${err.message}`));\n",
       "    } else {\n",
       "      maybeLoadScript(\"vega\", \"5\")\n",
       "        .then(() => maybeLoadScript(\"vega-lite\", \"4.17.0\"))\n",
       "        .then(() => maybeLoadScript(\"vega-embed\", \"6\"))\n",
       "        .catch(showError)\n",
       "        .then(() => displayChart(vegaEmbed));\n",
       "    }\n",
       "  })({\"config\": {\"view\": {\"continuousWidth\": 400, \"continuousHeight\": 300, \"strokeWidth\": 0}}, \"data\": {\"name\": \"data-b789e27af15336995161b0d9b9a5ee43\"}, \"mark\": {\"type\": \"bar\", \"opacity\": 0.7}, \"encoding\": {\"color\": {\"value\": \"darkgreen\"}, \"tooltip\": [{\"field\": \"relation_type\", \"title\": \"relation type\", \"type\": \"nominal\"}, {\"field\": \"size\", \"title\": \"num. of pairs\", \"type\": \"quantitative\"}], \"x\": {\"field\": \"size\", \"title\": \"num. of pairs\", \"type\": \"quantitative\"}, \"y\": {\"field\": \"relation_type\", \"sort\": \"-x\", \"title\": \"relation type\", \"type\": \"nominal\"}}, \"height\": 300, \"width\": 600, \"$schema\": \"https://vega.github.io/schema/vega-lite/v4.17.0.json\", \"datasets\": {\"data-b789e27af15336995161b0d9b9a5ee43\": [{\"relation_type\": \"co-hyponyms\", \"size\": 42860}, {\"relation_type\": \"co-instances\", \"size\": 222927}, {\"relation_type\": \"hypernym-hyponym\", \"size\": 6906}, {\"relation_type\": \"hypernym-instance\", \"size\": 2971}]}}, {\"mode\": \"vega-lite\"});\n",
       "</script>"
      ],
      "text/plain": [
       "alt.Chart(...)"
      ]
     },
     "execution_count": 23,
     "metadata": {},
     "output_type": "execute_result"
    }
   ],
   "source": [
    "bar = (\n",
    "    alt.Chart(new_df.groupby(\"relation_type\", as_index=False).size())\n",
    "    .mark_bar(opacity=0.7)\n",
    "    .encode(\n",
    "        x=alt.X(\"size:Q\", title=\"num. of pairs\"),\n",
    "        y=alt.Y(\"relation_type:N\", title=\"relation type\", sort=\"-x\"),\n",
    "        tooltip=[\n",
    "            alt.Tooltip(\"relation_type:N\", title=\"relation type\"),\n",
    "            alt.Tooltip(\"size:Q\", title=\"num. of pairs\"),\n",
    "        ],\n",
    "        color=alt.ColorValue(\"darkgreen\"),\n",
    "    )\n",
    ")\n",
    "bar.properties(width=600, height=300).configure_view(strokeWidth=0)"
   ]
  }
 ],
 "metadata": {
  "kernelspec": {
   "display_name": "Python 3",
   "language": "python",
   "name": "python3"
  },
  "language_info": {
   "codemirror_mode": {
    "name": "ipython",
    "version": 3
   },
   "file_extension": ".py",
   "mimetype": "text/x-python",
   "name": "python",
   "nbconvert_exporter": "python",
   "pygments_lexer": "ipython3",
   "version": "3.8.8"
  }
 },
 "nbformat": 4,
 "nbformat_minor": 5
}